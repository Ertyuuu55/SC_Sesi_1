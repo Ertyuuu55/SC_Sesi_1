{
  "nbformat": 4,
  "nbformat_minor": 0,
  "metadata": {
    "colab": {
      "provenance": [],
      "authorship_tag": "ABX9TyM6XG47XRfrtj7m4o6H/CAj",
      "include_colab_link": true
    },
    "kernelspec": {
      "name": "python3",
      "display_name": "Python 3"
    },
    "language_info": {
      "name": "python"
    }
  },
  "cells": [
    {
      "cell_type": "markdown",
      "metadata": {
        "id": "view-in-github",
        "colab_type": "text"
      },
      "source": [
        "<a href=\"https://colab.research.google.com/github/Ertyuuu55/SC_Sesi_1/blob/main/2802409943_Eric_Gunawan.ipynb\" target=\"_parent\"><img src=\"https://colab.research.google.com/assets/colab-badge.svg\" alt=\"Open In Colab\"/></a>"
      ]
    },
    {
      "cell_type": "code",
      "execution_count": null,
      "metadata": {
        "colab": {
          "base_uri": "https://localhost:8080/"
        },
        "id": "bESBBlFOHiVf",
        "outputId": "87198a60-f686-4d9e-9929-0528bdac0d35"
      },
      "outputs": [
        {
          "output_type": "stream",
          "name": "stdout",
          "text": [
            "Thu Feb  6 02:45:03 2025\n",
            "4\n"
          ]
        },
        {
          "output_type": "execute_result",
          "data": {
            "text/plain": [
              "3"
            ]
          },
          "metadata": {},
          "execution_count": 6
        }
      ],
      "source": [
        "import time\n",
        "print(time.ctime())\n",
        "\n",
        "x = 2\n",
        "print(x*x)\n",
        "\n",
        "x = x + 1\n",
        "x"
      ]
    },
    {
      "cell_type": "code",
      "source": [
        "x = 1\n",
        "y = x + 1\n",
        "x = 2\n",
        "y"
      ],
      "metadata": {
        "colab": {
          "base_uri": "https://localhost:8080/"
        },
        "id": "M-p2SgUGKlRJ",
        "outputId": "2afc2b30-4b8c-457f-8d0e-47608b98758d"
      },
      "execution_count": null,
      "outputs": [
        {
          "output_type": "execute_result",
          "data": {
            "text/plain": [
              "2"
            ]
          },
          "metadata": {},
          "execution_count": 8
        }
      ]
    },
    {
      "cell_type": "code",
      "source": [
        "import numpy as np"
      ],
      "metadata": {
        "id": "BLtLzHQ_K2QQ"
      },
      "execution_count": null,
      "outputs": []
    },
    {
      "cell_type": "code",
      "source": [
        "x = np.array([[1, 4, 3], [9, 2, 7]])\n",
        "x"
      ],
      "metadata": {
        "id": "qrfk-x-YLns2",
        "outputId": "1cf7d4b7-401d-49ef-d743-badff803df48",
        "colab": {
          "base_uri": "https://localhost:8080/"
        }
      },
      "execution_count": null,
      "outputs": [
        {
          "output_type": "execute_result",
          "data": {
            "text/plain": [
              "array([[1, 4, 3],\n",
              "       [9, 2, 7]])"
            ]
          },
          "metadata": {},
          "execution_count": 23
        }
      ]
    },
    {
      "cell_type": "code",
      "source": [
        "#comment satu baris pakai hashtag\n",
        "\"\"\"\n",
        "bintang untuk comment berbagai baris\n",
        "\n",
        "\"\"\""
      ],
      "metadata": {
        "id": "nrUGa87iPn8B"
      },
      "execution_count": null,
      "outputs": []
    },
    {
      "cell_type": "code",
      "source": [
        "def my_adder(a, b, c):\n",
        "    out = a + b + c #gausah deklarasi variabel\n",
        "    return out"
      ],
      "metadata": {
        "id": "Dx40MCtBOoWx"
      },
      "execution_count": null,
      "outputs": []
    },
    {
      "cell_type": "code",
      "source": [
        "my_adder(1, 2, 3)"
      ],
      "metadata": {
        "colab": {
          "base_uri": "https://localhost:8080/"
        },
        "id": "4NdEh_CSPhH7",
        "outputId": "b7d0da4b-f6a3-4914-a950-d8064bb14199"
      },
      "execution_count": null,
      "outputs": [
        {
          "output_type": "execute_result",
          "data": {
            "text/plain": [
              "6"
            ]
          },
          "metadata": {},
          "execution_count": 29
        }
      ]
    },
    {
      "cell_type": "code",
      "source": [
        "def my_thermo_stat(temp, desired_temp):\n",
        "  if temp < desired_temp - 5:\n",
        "    status = 'Heat'\n",
        "  elif temp > desired_temp + 5:\n",
        "    status = 'AC'\n",
        "  else:\n",
        "    status = 'off'\n",
        "  return status\n"
      ],
      "metadata": {
        "id": "VYyCSSNTQvYL"
      },
      "execution_count": null,
      "outputs": []
    },
    {
      "cell_type": "code",
      "source": [
        "status = my_thermo_stat(65, 75)\n",
        "print(status)"
      ],
      "metadata": {
        "colab": {
          "base_uri": "https://localhost:8080/"
        },
        "id": "s27ZMDs8RmFF",
        "outputId": "45ac3dc9-d74e-49ce-f9c6-50189b2a39a6"
      },
      "execution_count": null,
      "outputs": [
        {
          "output_type": "stream",
          "name": "stdout",
          "text": [
            "Heat\n"
          ]
        }
      ]
    },
    {
      "cell_type": "code",
      "source": [
        "status = my_thermo_stat(75, 65)\n",
        "print(status)"
      ],
      "metadata": {
        "colab": {
          "base_uri": "https://localhost:8080/"
        },
        "id": "ZWBxwn1NRmRz",
        "outputId": "753edaba-8bb9-482d-afa3-f4cf886e7d2f"
      },
      "execution_count": null,
      "outputs": [
        {
          "output_type": "stream",
          "name": "stdout",
          "text": [
            "AC\n"
          ]
        }
      ]
    },
    {
      "cell_type": "code",
      "source": [
        "status = my_thermo_stat(65, 63)\n",
        "print(status)"
      ],
      "metadata": {
        "colab": {
          "base_uri": "https://localhost:8080/"
        },
        "id": "0GTQNMr7Rme2",
        "outputId": "68ce748d-337d-420a-ea33-cb2d0cbf6bee"
      },
      "execution_count": null,
      "outputs": [
        {
          "output_type": "stream",
          "name": "stdout",
          "text": [
            "off\n"
          ]
        }
      ]
    },
    {
      "cell_type": "code",
      "source": [
        "x = 3\n",
        "if x > 1 and x < 2:\n",
        "  y = 2\n",
        "elif x > 2 and x < 4:\n",
        "  y = 4\n",
        "else:\n",
        "  y = 0\n",
        "print(y)\n"
      ],
      "metadata": {
        "colab": {
          "base_uri": "https://localhost:8080/"
        },
        "id": "jK4A-hgFTK_W",
        "outputId": "893e31a3-1f03-4e7e-a8d7-b4321500fa64"
      },
      "execution_count": null,
      "outputs": [
        {
          "output_type": "stream",
          "name": "stdout",
          "text": [
            "4\n"
          ]
        }
      ]
    },
    {
      "cell_type": "code",
      "source": [
        "x = 3\n",
        "if 1 < x < 2:\n",
        "  y = 2\n",
        "elif 2 < x < 4:\n",
        "  y = 4\n",
        "else:\n",
        "  y = 0\n",
        "print(y)"
      ],
      "metadata": {
        "colab": {
          "base_uri": "https://localhost:8080/"
        },
        "id": "yPFQzTk3Tb_O",
        "outputId": "2f371e12-19ab-4caf-83bb-e04d0331b7a6"
      },
      "execution_count": null,
      "outputs": [
        {
          "output_type": "stream",
          "name": "stdout",
          "text": [
            "4\n"
          ]
        }
      ]
    }
  ]
}