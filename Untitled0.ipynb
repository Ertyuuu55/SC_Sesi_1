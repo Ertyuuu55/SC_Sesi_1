{
  "nbformat": 4,
  "nbformat_minor": 0,
  "metadata": {
    "colab": {
      "provenance": [],
      "authorship_tag": "ABX9TyN2qXwEmNUfPWCZ0PGJGOPa",
      "include_colab_link": true
    },
    "kernelspec": {
      "name": "python3",
      "display_name": "Python 3"
    },
    "language_info": {
      "name": "python"
    }
  },
  "cells": [
    {
      "cell_type": "markdown",
      "metadata": {
        "id": "view-in-github",
        "colab_type": "text"
      },
      "source": [
        "<a href=\"https://colab.research.google.com/github/Ertyuuu55/SC_Sesi_1/blob/main/Untitled0.ipynb\" target=\"_parent\"><img src=\"https://colab.research.google.com/assets/colab-badge.svg\" alt=\"Open In Colab\"/></a>"
      ]
    },
    {
      "cell_type": "code",
      "execution_count": null,
      "metadata": {
        "colab": {
          "base_uri": "https://localhost:8080/"
        },
        "id": "7zAZJSjUdiE1",
        "outputId": "7cb06832-6e86-4fc6-902a-f056b020fc71"
      },
      "outputs": [
        {
          "output_type": "stream",
          "name": "stdout",
          "text": [
            "Hello World\n",
            "else\n"
          ]
        }
      ],
      "source": [
        "print (\"Hello World\")\n",
        "x = 2\n",
        "if (x==3) :\n",
        "  print (\"in if\")\n",
        "  print (x)\n",
        "else :\n",
        "    print (\"else\")"
      ]
    },
    {
      "cell_type": "code",
      "source": [],
      "metadata": {
        "id": "KMRlQOA1duM9"
      },
      "execution_count": null,
      "outputs": []
    }
  ]
}